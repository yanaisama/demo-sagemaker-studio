{
 "cells": [
  {
   "cell_type": "code",
   "execution_count": 1,
   "id": "5304e4e2-bbb5-4ce4-ad9d-2558284fdd0f",
   "metadata": {
    "execution": {
     "iopub.execute_input": "2025-03-17T23:05:44.931874Z",
     "iopub.status.busy": "2025-03-17T23:05:44.931505Z",
     "iopub.status.idle": "2025-03-17T23:05:57.890792Z",
     "shell.execute_reply": "2025-03-17T23:05:57.889817Z",
     "shell.execute_reply.started": "2025-03-17T23:05:44.931847Z"
    }
   },
   "outputs": [
    {
     "name": "stdout",
     "output_type": "stream",
     "text": [
      "Executing for connection type: SPARK_GLUE, connection name: project.spark.compatibility\n"
     ]
    },
    {
     "data": {
      "text/plain": [
       "\"The following configurations have been updated: {'--conf': 'spark.extraListeners=io.openlineage.spark.agent.OpenLineageSparkListener --conf spark.openlineage.transport.type=amazon_datazone_api --conf spark.openlineage.transport.domainId=dzd_cjfgk2iz50fxp7 --conf spark.glue.accountId=577638381635 --conf spark.openlineage.facets.custom_environment_variables=[AWS_DEFAULT_REGION;GLUE_VERSION;GLUE_COMMAND_CRITERIA;GLUE_PYTHON_VERSION;]'}\""
      ]
     },
     "metadata": {},
     "output_type": "display_data"
    }
   ],
   "source": [
    "%%configure -n project.spark.compatibility\n",
    "{\n",
    "    \"--conf\":\"spark.extraListeners=io.openlineage.spark.agent.OpenLineageSparkListener --conf spark.openlineage.transport.type=amazon_datazone_api --conf spark.openlineage.transport.domainId=dzd_cjfgk2iz50fxp7 --conf spark.glue.accountId=577638381635 --conf spark.openlineage.facets.custom_environment_variables=[AWS_DEFAULT_REGION;GLUE_VERSION;GLUE_COMMAND_CRITERIA;GLUE_PYTHON_VERSION;]\"\n",
    "}"
   ]
  },
  {
   "cell_type": "code",
   "execution_count": 1,
   "id": "15666ce8-5bca-405c-8cc3-3ba1cace8fe1",
   "metadata": {
    "execution": {
     "iopub.execute_input": "2025-03-18T17:34:28.054416Z",
     "iopub.status.busy": "2025-03-18T17:34:28.054008Z",
     "iopub.status.idle": "2025-03-18T17:36:04.186127Z",
     "shell.execute_reply": "2025-03-18T17:36:04.185370Z",
     "shell.execute_reply.started": "2025-03-18T17:34:28.054389Z"
    }
   },
   "outputs": [
    {
     "name": "stdout",
     "output_type": "stream",
     "text": [
      "Executing for connection type: SPARK_GLUE, connection name: project.spark.compatibility\n",
      "Creating Glue session...\n"
     ]
    },
    {
     "data": {
      "text/plain": [
       "'Session 4cmygnn241c1zv-4de10be3-a10f-403a-8a78-634d8c0b51f2 has been created.'"
      ]
     },
     "metadata": {},
     "output_type": "display_data"
    },
    {
     "data": {
      "text/html": [
       "\n",
       "                <table class=\"session_info_table\" style=\"width: 75%; margin-top: var(--jp-content-heading-margin-top); margin-bottom:var(--jp-content-heading-margin-bottom); border: var(--jp-border-width) solid var(--jp-border-color2);\">\n",
       "                    <tr>\n",
       "                        <th style=\"text-align: left; border: var(--jp-border-width) solid var(--jp-border-color2);\">Id</th>\n",
       "                        <th style=\"text-align: left; border: var(--jp-border-width) solid var(--jp-border-color2);\">Spark UI</th>\n",
       "                        <th style=\"text-align: left; border: var(--jp-border-width) solid var(--jp-border-color2);\">Driver logs</th>\n",
       "                    </tr>\n",
       "                    <tr>\n",
       "                        <td class=\"application_id\" style=\"word-wrap: break-word; text-align: left; border: var(--jp-border-width) solid var(--jp-border-color2)\">4cmygnn241c1zv-4de10be3-a10f-403a-8a78-634d8c0b51f2</td>\n",
       "                        <td class=\"spark_ui_link\" style=\"word-wrap: break-word; text-align: left; border: var(--jp-border-width) solid var(--jp-border-color2)\"><a href=\"\" target=\"_blank\" log_location=\"s3://amazon-sagemaker-825765423553-sa-east-1-dac29af4cfb9/dzd_cjfgk2iz50fxp7/4cmygnn241c1zv/dev/glue/glue-spark-events-logs/\">link</a></td>\n",
       "                        <td class=\"driver_log_link\" style=\"word-wrap: break-word; text-align: left; border: var(--jp-border-width) solid var(--jp-border-color2)\"><a href=\"\" target=\"_blank\" log_location=\"s3://amazon-sagemaker-825765423553-sa-east-1-dac29af4cfb9/dzd_cjfgk2iz50fxp7/4cmygnn241c1zv/dev/glue/glue-spark-system-logs/4cmygnn241c1zv-4de10be3-a10f-403a-8a78-634d8c0b51f2/driver/stderr.gz\">link</a></td>\n",
       "                    </tr>\n",
       "                </table>\n",
       "            "
      ],
      "text/plain": [
       "<IPython.core.display.HTML object>"
      ]
     },
     "metadata": {},
     "output_type": "display_data"
    },
    {
     "name": "stdout",
     "output_type": "stream",
     "text": [
      "Session created for connection: project.spark.compatibility.\n",
      "\n",
      "\n",
      "Connection: project.spark.compatibility | Run start time: 2025-03-18 17:34:30.800105 | Run duration : 0:01:33.381870s.\n"
     ]
    }
   ],
   "source": [
    "%%sql project.spark.compatibility\n",
    "from pyspark.sql import SparkSession\n",
    "from pyspark.sql.functions import current_timestamp\n",
    "import logging\n",
    "import boto3\n",
    "\n",
    "# Configure logging\n",
    "logging.basicConfig(\n",
    "    level=logging.INFO,\n",
    "    format='%(asctime)s - %(levelname)s - %(message)s'\n",
    ")\n",
    "logger = logging.getLogger(__name__)\n",
    "\n",
    "def get_secret(parameter_name):\n",
    "    \"\"\"Retrieve secret from AWS Parameter Store\"\"\"\n",
    "    try:\n",
    "        ssm = boto3.client('ssm', region_name='sa-east-1')  # adjust region as needed\n",
    "        response = ssm.get_parameter(\n",
    "            Name=parameter_name,\n",
    "            WithDecryption=True\n",
    "        )\n",
    "        return response['Parameter']['Value']\n",
    "    except Exception as e:\n",
    "        logger.error(f\"Error retrieving parameter {parameter_name}: {str(e)}\")\n",
    "        raise\n",
    "\n",
    "# Fetch credentials from Parameter Store\n",
    "try:\n",
    "    db_username = get_secret('/itau/rds/username')\n",
    "    db_password = get_secret('/itau/rds/password')\n",
    "    logger.info(\"Successfully retrieved database credentials from Parameter Store\")\n",
    "except Exception as e:\n",
    "    logger.error(\"Failed to retrieve credentials from Parameter Store\")\n",
    "    raise\n",
    "\n",
    "# Create Spark session\n",
    "spark = SparkSession.builder \\\n",
    "                    .appName(\"PostgreSQL to S3 ETL\") \\\n",
    "                    .config(\"spark.sql.catalog.glue_catalog\", \"org.apache.iceberg.spark.SparkCatalog\") \\\n",
    "                    .config(\"spark.sql.catalog.glue_catalog.catalog-impl\", \"org.apache.iceberg.aws.glue.GlueCatalog\") \\\n",
    "                    .config(\"spark.sql.catalog.glue_catalog.warehouse\", \"s3://itau-sm-demo-825765423553/iceberg_catalog/\") \\\n",
    "                    .config(\"spark.sql.extensions\", \"org.apache.iceberg.spark.extensions.IcebergSparkSessionExtensions\") \\\n",
    "                    .config(\"spark.sql.catalog.glue_catalog.io-impl\", \"org.apache.iceberg.aws.s3.S3FileIO\") \\\n",
    "                    .config(\"spark.sql.iceberg.handle-timestamp-without-timezone\", True) \\\n",
    "                    .getOrCreate()\n",
    "\n",
    "# Read from PostgreSQL\n",
    "df = spark.read \\\n",
    "          .format(\"jdbc\") \\\n",
    "          .option(\"url\", \"jdbc:postgresql://itau-sm-demo-database.cjsu82i00wkp.sa-east-1.rds.amazonaws.com:5432/registration\") \\\n",
    "          .option(\"dbtable\", \"registration.customer\") \\\n",
    "          .option(\"user\", db_username) \\\n",
    "          .option(\"password\", db_password) \\\n",
    "          .option(\"driver\", \"org.postgresql.Driver\") \\\n",
    "          .load()\n",
    "\n",
    "df.writeTo(\"glue_db_aw53flfpa5qkyj.customer\") \\\n",
    "  .tableProperty(\"format-version\", \"2\") \\\n",
    "  .overwritePartitions()"
   ]
  },
  {
   "cell_type": "code",
   "execution_count": 2,
   "id": "6ab43d48-12a8-4e9d-b76e-1f27679189f8",
   "metadata": {
    "execution": {
     "iopub.execute_input": "2025-03-18T17:37:40.388716Z",
     "iopub.status.busy": "2025-03-18T17:37:40.388438Z",
     "iopub.status.idle": "2025-03-18T17:37:43.991555Z",
     "shell.execute_reply": "2025-03-18T17:37:43.990918Z",
     "shell.execute_reply.started": "2025-03-18T17:37:40.388693Z"
    }
   },
   "outputs": [
    {
     "data": {
      "text/markdown": [
       "\n",
       "| Magic              | Example                                                                                                              | Supported Compute Types                         | Description                                                                                                                                                                                                                                                                                                                                                                                                                                                                                                                                                                                  |\n",
       "| ------------------ | -------------------------------------------------------------------------------------------------------------------- | ----------------------------------------------- | -------------------------------------------------------------------------------------------------------------------------------------------------------------------------------------------------------------------------------------------------------------------------------------------------------------------------------------------------------------------------------------------------------------------------------------------------------------------------------------------------------------------------------------------------------------------------------------------- |\n",
       "| %help              | %help                                                                                                                | JupyterLab, AWS Glue, AWS EMR, ATHENA, REDSHIFT | Returns a list of descriptions and example usages for all magic commands.                                                                                                                                                                                                                                                                                                                                                                                                                                                                                                                    |\n",
       "| %%spark            | %%spark<br>%%spark (compute)<br>%%spark --name (compute)<br>%%spark -n (compute)                                     | AWS Glue, AWS EMR                               | Allows pyspark code written in python in the cell and submits code to Spark Compute<br><br>Supports an optional argument to specify the Compute name. The argument can be expressed explicitly by using \"-n or --name\". When the Compute name is not specified, an ordered search for \"project.spark.compatibility\", \"project.spark\", \"project.spark.fineGrained\" will be performed, and the first one found will be used.                                                                                                                                                                                                                                                                                       |\n",
       "| %%pyspark          | %%pyspark<br>%%pyspark (compute)<br>%%pyspark --name (compute)<br>%%pyspark -n (compute)                             | AWS Glue, AWS EMR                               | Allows pyspark code written in python in the cell and submits code to Spark Compute<br><br>Supports an optional argument to specify the Compute name. The argument can be expressed explicitly by using \"-n or --name\". When the Compute name is not specified, an ordered search for \"project.spark.compatibility\", \"project.spark\", \"project.spark.fineGrained\" will be performed, and the first one found will be used.                                                                                                                                                                                                                                                                                                        |\n",
       "| %%scalaspark       | %%scalaspark<br>%%scalaspark (compute)<br>%%scalaspark --name (compute)<br>%%scalaspark -n (compute)                 | AWS Glue, AWS EMR                               | Allows spark code written in scala in the cell and submits code to Spark Compute<br><br>Supports an optional argument to specify the Compute name. The argument can be expressed explicitly by using \"-n or --name\". When the Compute name is not specified, an ordered search for \"project.spark.compatibility\", \"project.spark\", \"project.spark.fineGrained\" will be performed, and the first one found will be used.                                                                                                                                                                                                                                                                                                              |\n",
       "| %%local            | %%local<br>%%local (compute)<br>%%local --name (compute)<br>%%local -n (compute)                                     | JupyterLab                                      | Allows code written in python in the cell runs the code in JupyterLab Compute. When no prarmeters are specified, it is the equivallent of not using this cell magic.<br><br>Supports an optional argument to specify the JupyterLab Compute name. The argument can be expressed explicitly by using \"-n or --name\". When the Compute name is not specified, \"project.python\" will be used. Commonly used to change AWS profile used to run code on JupyterLab.                                                                                                                                |\n",
       "| %%sql              | %%sql<br><br>select current_user                                                                                     | AWS Glue, AWS EMR, ATHENA, REDSHIFT             | Executes a SQL query against Redshift, Athena and Spark Compute.<br><br>Supports an optional argument to specify the Compute name. The argument can be expressed explicitly by using \"-n or --name\". When the Compute name is not specified, an ordered search for \"project.spark.compatibility\", \"project.spark\", \"project.spark.fineGrained\" will be performed, and the first one found will be used.                                                                                                                                                                                                                                                                                                                             |\n",
       "| %disconnect        | %disconnect --name (compute)                                                                                         | AWS Glue, AWS EMR, ATHENA, REDSHIFT             | Stops a session connecting to a remote compute.<br><br>Supports an optional argument -n or --name for the connection to be stopped. The default value is set to be the chosen connection in the dropdown for the current cell.                                                                                                                                                                                                                                                                                                                                                               |\n",
       "| %send_to_remote    | %send_to_remote --name (compute) --language (language) --local (local variable name) --remote (remote variable name) | AWS Glue, AWS EMR                               | Sends a variable from the local kernel to remote compute. Remote compute supports both python and scala. When the remote is running in Python, it supports data type in dict, df, and str. When running in scala, df and str data types are supported.<br><br>Supports the following arguments: -l or --language for the connection language to be used, an argument -n or --name for the connection to be used, --local for the local variable name, and --remote or -r for the remote variable name.                                                                                       |\n",
       "| %info              | %info --name (compute)                                                                                               | AWS Glue, AWS EMR                               | Outputs session information for the current chosen compute.<br><br>Supports optional argument -n or --name for the connection to be displayed its session information. The default value is set to be the chosen connection in the dropdown for the current cell.                                                                                                                                                                                                                                                                                                                            |\n",
       "| %status            | %status --name (compute)                                                                                             | AWS Glue                                        | Returns current session status. Status includes when the session was created, configuration, executing user role, etc.<br><br>Supports an optional argument -n or --name for the connection to be displayed its session status. The default value is set to be the chosen connection in the dropdown for the current cell.                                                                                                                                                                                                                                                                   |\n",
       "| %session_id        | %session_id —name (compute)                                                                                          | AWS Glue                                        | Returns the session ID for the running session.<br><br>Supports an optional argument -n or --name for the connection to be displayed its session ID. The default value is set to be the chosen connection in the dropdown for the current cell.                                                                                                                                                                                                                                                                                                                                              |\n",
       "| %list_sessions     | %list_sessions                                                                                                       | JupyterLab                                      | Displays all maintained sessions in the current kernel.                                                                                                                                                                                                                                                                                                                                                                                                                                                                                                                                      |\n",
       "| %display           | %display --dataframe (df name)                                                                                       | JupyterLab, AWS Glue, AWS EMR                   | Displays summary from data from dataframe and enable plotting of dataframe.                                                                                                                                                                                                                                                                                                                                                                                                                                                                                                                  |\n",
       "| %matplot           | %matplot --name (compute) <plot name>                                                                                | AWS EMR                                         | Creates a visualization of plotting                                                                                                                                                                                                                                                                                                                                                                                                                                                                                                                                                          |\n",
       "| %%configure        | %%configure --name (compute) (-f)<br>{<br>\"key\": \"value\"<br>}                                                      | AWS Glue, AWS EMR                               | Configures the session by providing a JSON-formatted dictionary consisting of configuration parameters for a session.<br><br>Supports optional arguments: -n or --name for the connection to be configured. The default value is set to be the chosen connection in the dropdown for the current cell. If a session has been created already, and a user wants to apply the configuration, -f or --force is required to kill the current one and to create a new one with the configuration applied.                                                                                         |\n",
       "| %%tags             | %%tags --name (compute)<br>{<br>\"key\": \"value\"<br>}                                                                | AWS Glue                                        | Adds tags to a session. Tags should be specified within a curly bracket {}. Each tag name pair is enclosed in parentheses (\" \") and separated by a comma (,).<br><br>Supports an optional argument -n or --name for the connection to be configured. The default value is set to be the chosen connection in the dropdown for the current cell.                                                                                                                                                                                                                                            |\n",
       "| %spark_conf        | %spark_conf --name (compute) (-f) configuration                                                                      | AWS Glue                                        | Sets the spark configuration value of the session to be created.<br><br>Supports an optional argument -n or --name for the connection to be configured. The default value is set to be the chosen connection in the dropdown for the current cell. If a session has been created already, and a user wants to apply the configuration, -f or --force is required to kill the current one and to create a new one with the configuration applied.                                                                                                                                             |\n",
       "| %idle_timeout      | %idle_timeout --name (compute) timeout (-f)                                                                          | AWS Glue                                        | Sets the idle timeout value of the session to be created. Default: 2880 minutes (48 hours).<br><br>Supports an optional argument -n or --name for the connection to be configured. The default value is set to be the chosen connection in the dropdown for the current cell. If a session has been created already, and a user wants to apply the configuration, -f or --force is required to kill the current one and to create a new one with the configuration applied.                                                                                                                  |\n",
       "| %session_id_prefix | %session_id_prefix --name (compute) prefix_value (-f)                                                                | AWS Glue                                        | Sets the session Id prefix as the prefix_value preceding all session IDs in the format: **[session_id_prefix]-[project_id]-[session_id].** If a session ID is not provided, a random UUID will be generated.<br><br>Supports an optional argument -n or --name for the connection to be configured. The default value is set to be the chosen connection in the dropdown for the current cell. If a session has been created already, and a user wants to apply the configuration, -f or --force is required to kill the current one and to create a new one with the configuration applied. |\n",
       "| %session_type      | %session_type --name (compute) etl (-f)                                                                              | AWS Glue                                        | Sets the session type to the value specified. The acceptable values are: etl and streaming.<br><br>Supports an optional argument -n or --name for the connection to be configured. The default value is set to be the chosen connection in the dropdown for the current cell. If a session has been created already, and a user wants to apply the configuration, -f or --force is required to kill the current one and to create a new one with the configuration applied.                                                                                                                  |\n",
       "| %streaming         | %streaming --name (compute) (-f)                                                                                     | AWS Glue                                        | Sets the session to streaming type.<br><br>It supports an optional argument -n or --name for the connection to be configured. The default value is set to be the chosen connection in the dropdown for the current cell. If a session has been created already, and a user wants to apply the configuration, -f or --force is required to kill the current one and to create a new one with the configuration applied.                                                                                                                                                                       |\n",
       "| %etl               | %etl --name (compute) (-f)                                                                                           | AWS Glue                                        | Sets the session to be etl type.<br><br>It supports an optional argument -n or --name for the connection to be configured. The default value is set to be the chosen connection in the dropdown for the current cell. If a session has been created already, and a user wants to apply the configuration, -f or --force is required to kill the current one and to create a new one with the configuration applied.                                                                                                                                                                          |\n",
       "| %glue_version      | %glue_version --name (compute) 3.0 (-f)                                                                              | AWS Glue                                        | Sets the version of a session to be created.<br><br>It supports an optional argument -n or --name for the connection to be configured. The default value is set to be the chosen connection in the dropdown for the current cell. If a session has been created already, and a user wants to apply the configuration, -f or --force is required to kill the current one and to create a new one with the configuration applied.                                                                                                                                                              |\n",
       "| %worker_type       | %worker_type --name (compute) G.2X (-f)                                                                              | AWS Glue                                        | Sets the worker type of a session to be created.<br><br>Supports an optional argument -n or --name for the connection to be configured. The default value is set to be the chosen connection in the dropdown for the current cell. If a session has been created already, and a user wants to apply the configuration, -f or --force is required to kill the current one and to create a new one with the configuration applied.                                                                                                                                                             |\n",
       "| %number_of_workers | % number_of_workers --name (compute) 15 (-f)                                                                         | AWS Glue                                        | Sets the number of workers of a Glue session to be created.<br><br>Supports an optional argument -n or --name for the connection to be configured. The default value is set to be the chosen connection in the dropdown for the current cell. If a session has been created already, and a user wants to apply the configuration, -f or --force is required to kill the current one and to create a new one with the configuration applied.                                                                                                                                                  |\n",
       "| %logs              | %logs --name (compute)                                                                                               | AWS EMR                                         | Outputs the session's session logs.<br><br>Supports an optional argument -n or --name for the connection to show its session logs. The default value is set to be the chosen connection in the dropdown for the current cell.                                                                                                                                                                                                                                                                                                                                                                |\n"
      ],
      "text/plain": [
       "<IPython.core.display.Markdown object>"
      ]
     },
     "metadata": {},
     "output_type": "display_data"
    },
    {
     "name": "stdout",
     "output_type": "stream",
     "text": [
      "Connection: project.spark.compatibility | Run start time: 2025-03-18 17:37:40.978442 | Run duration : 0:00:03.010348s.\n"
     ]
    }
   ],
   "source": [
    "%%pyspark project.spark.compatibility\n",
    "%help"
   ]
  },
  {
   "cell_type": "code",
   "execution_count": null,
   "id": "ee2022bc-9889-4332-9521-8e4ccdf4c33f",
   "metadata": {},
   "outputs": [],
   "source": [
    "%%pyspark project.spark.compatibility\n"
   ]
  }
 ],
 "metadata": {
  "kernelspec": {
   "display_name": "Python 3 (ipykernel)",
   "language": "python",
   "name": "python3"
  },
  "language_info": {
   "codemirror_mode": {
    "name": "ipython",
    "version": 3
   },
   "file_extension": ".py",
   "mimetype": "text/x-python",
   "name": "python",
   "nbconvert_exporter": "python",
   "pygments_lexer": "ipython3",
   "version": "3.11.11"
  }
 },
 "nbformat": 4,
 "nbformat_minor": 5
}
