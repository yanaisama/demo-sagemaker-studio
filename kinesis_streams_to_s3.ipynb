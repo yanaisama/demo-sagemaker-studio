{
 "cells": [
  {
   "cell_type": "code",
   "execution_count": null,
   "id": "15666ce8-5bca-405c-8cc3-3ba1cace8fe1",
   "metadata": {
    "execution": {
     "iopub.execute_input": "2025-03-18T14:42:20.004095Z",
     "iopub.status.busy": "2025-03-18T14:42:20.001629Z"
    }
   },
   "outputs": [
    {
     "name": "stdout",
     "output_type": "stream",
     "text": [
      "Stopping session for project.spark.compatibility. Session id: 4cmygnn241c1zv-97a53b8b-062f-4399-abe2-7e9246cbd42a\n",
      "Session stopped.\n"
     ]
    },
    {
     "data": {
      "text/plain": [
       "\"The following configurations have been updated: {'session_type': 'streaming'}\""
      ]
     },
     "metadata": {},
     "output_type": "display_data"
    },
    {
     "name": "stdout",
     "output_type": "stream",
     "text": [
      "Creating Glue session...\n"
     ]
    },
    {
     "data": {
      "text/plain": [
       "'Session 4cmygnn241c1zv-94017b9f-d861-42c6-9cf9-bb498e078a90 has been created.'"
      ]
     },
     "metadata": {},
     "output_type": "display_data"
    },
    {
     "data": {
      "text/html": [
       "\n",
       "                <table class=\"session_info_table\" style=\"width: 75%; margin-top: var(--jp-content-heading-margin-top); margin-bottom:var(--jp-content-heading-margin-bottom); border: var(--jp-border-width) solid var(--jp-border-color2);\">\n",
       "                    <tr>\n",
       "                        <th style=\"text-align: left; border: var(--jp-border-width) solid var(--jp-border-color2);\">Id</th>\n",
       "                        <th style=\"text-align: left; border: var(--jp-border-width) solid var(--jp-border-color2);\">Spark UI</th>\n",
       "                        <th style=\"text-align: left; border: var(--jp-border-width) solid var(--jp-border-color2);\">Driver logs</th>\n",
       "                    </tr>\n",
       "                    <tr>\n",
       "                        <td class=\"application_id\" style=\"word-wrap: break-word; text-align: left; border: var(--jp-border-width) solid var(--jp-border-color2)\">4cmygnn241c1zv-94017b9f-d861-42c6-9cf9-bb498e078a90</td>\n",
       "                        <td class=\"spark_ui_link\" style=\"word-wrap: break-word; text-align: left; border: var(--jp-border-width) solid var(--jp-border-color2)\"><a href=\"\" target=\"_blank\" log_location=\"s3://amazon-sagemaker-825765423553-sa-east-1-dac29af4cfb9/dzd_cjfgk2iz50fxp7/4cmygnn241c1zv/dev/glue/glue-spark-events-logs/\">link</a></td>\n",
       "                        <td class=\"driver_log_link\" style=\"word-wrap: break-word; text-align: left; border: var(--jp-border-width) solid var(--jp-border-color2)\"><a href=\"\" target=\"_blank\" log_location=\"s3://amazon-sagemaker-825765423553-sa-east-1-dac29af4cfb9/dzd_cjfgk2iz50fxp7/4cmygnn241c1zv/dev/glue/glue-spark-system-logs/4cmygnn241c1zv-94017b9f-d861-42c6-9cf9-bb498e078a90/driver/stderr.gz\">link</a></td>\n",
       "                    </tr>\n",
       "                </table>\n",
       "            "
      ],
      "text/plain": [
       "<IPython.core.display.HTML object>"
      ]
     },
     "metadata": {},
     "output_type": "display_data"
    }
   ],
   "source": [
    "%%pyspark project.spark.compatibility\n",
    "%streaming -f\n",
    "import sys\n",
    "from awsglue.transforms import *\n",
    "from awsglue.utils import getResolvedOptions\n",
    "from pyspark.context import SparkContext\n",
    "from awsglue.context import GlueContext\n",
    "from awsglue.job import Job\n",
    "from pyspark.sql.functions import *\n",
    "from pyspark.sql.types import *\n",
    "from pyspark.conf import SparkConf\n",
    "from pyspark.sql.functions import when, lit, concat, substring, year, month, day, hour, minute\n",
    "from pyspark.sql import SparkSession\n",
    "import logging\n",
    "import boto3\n",
    "\n",
    "# Configure logging\n",
    "logging.basicConfig(\n",
    "    level=logging.INFO,\n",
    "    format='%(asctime)s - %(levelname)s - %(message)s'\n",
    ")\n",
    "logger = logging.getLogger(__name__)\n",
    "\n",
    "def get_secret(parameter_name):\n",
    "    \"\"\"Retrieve secret from AWS Parameter Store\"\"\"\n",
    "    try:\n",
    "        ssm = boto3.client('ssm', region_name='sa-east-1')  # adjust region as needed\n",
    "        response = ssm.get_parameter(\n",
    "            Name=parameter_name,\n",
    "            WithDecryption=True\n",
    "        )\n",
    "        return response['Parameter']['Value']\n",
    "    except Exception as e:\n",
    "        logger.error(f\"Error retrieving parameter {parameter_name}: {str(e)}\")\n",
    "        raise\n",
    "\n",
    "# Fetch credentials from Parameter Store\n",
    "try:\n",
    "    kds_arn = get_secret('/itau/kds/pix_arn')\n",
    "    logger.info(\"Successfully retrieved database credentials from Parameter Store\")\n",
    "except Exception as e:\n",
    "    logger.error(\"Failed to retrieve credentials from Parameter Store\")\n",
    "    raise\n",
    "\n",
    "spark = SparkSession.builder \\\n",
    "                    .appName(\"PostgreSQL to S3 ETL\") \\\n",
    "                    .config(\"spark.sql.catalog.glue_catalog\", \"org.apache.iceberg.spark.SparkCatalog\") \\\n",
    "                    .config(\"spark.sql.catalog.glue_catalog.catalog-impl\", \"org.apache.iceberg.aws.glue.GlueCatalog\") \\\n",
    "                    .config(\"spark.sql.catalog.glue_catalog.warehouse\", \"s3://itau-sm-demo-825765423553/iceberg_catalog/\") \\\n",
    "                    .config(\"spark.sql.extensions\", \"org.apache.iceberg.spark.extensions.IcebergSparkSessionExtensions\") \\\n",
    "                    .config(\"spark.sql.catalog.glue_catalog.io-impl\", \"org.apache.iceberg.aws.s3.S3FileIO\") \\\n",
    "                    .config(\"spark.sql.iceberg.handle-timestamp-without-timezone\", True) \\\n",
    "                    .getOrCreate()\n",
    "\n",
    "sc = spark.sparkContext\n",
    "glueContext = GlueContext(sc)\n",
    "job = Job(glueContext)\n",
    "\n",
    "schema = StructType([\n",
    "            StructField(\"transaction_id\", StringType(), False),\n",
    "            StructField(\"customer_id\", IntegerType(), False),\n",
    "            StructField(\"customer_pix_key\", StringType(), False),\n",
    "            StructField(\"value\", DecimalType(10, 2), False),\n",
    "            StructField(\"destination_pix_key\", StringType(), False),\n",
    "            StructField(\"timestamp\", TimestampType(), False)\n",
    "        ])\n",
    "\n",
    "\n",
    "raw_df = glueContext.create_data_frame.from_options(\n",
    "    connection_type=\"kinesis\",\n",
    "    connection_options={\n",
    "        \"streamARN\": kds_arn,\n",
    "        \"initialPosition\": \"LATEST\",\n",
    "        \"inferSchema\": \"true\",\n",
    "        \"classification\": \"json\"\n",
    "    },\n",
    "    transformation_ctx=\"raw_df\"\n",
    ")\n",
    "\n",
    "def process_batch(df, epoch_id):\n",
    "    ssc_df = df.select(\n",
    "        from_json(col(\"$json$data_infer_schema$_temporary$\"), schema).alias(\"parsed_data\")\n",
    "    ).select(\"parsed_data.*\") \\\n",
    "     .withColumnRenamed(\"timestamp\", \"transaction_timestamp\") \\\n",
    "     .withColumn(\"customer_pix_key_masked\", concat(substring(col(\"customer_pix_key\"), 1, 2),\n",
    "                                            lit(\"*******\"),\n",
    "                                            substring(col(\"customer_pix_key\"), -4, 4))) \\\n",
    "     .withColumn(\"destination_pix_key_masked\", concat(substring(col(\"customer_pix_key\"), 1, 2),\n",
    "                                            lit(\"*******\"),\n",
    "                                            substring(col(\"destination_pix_key\"), -4, 4))) \\\n",
    "     .withColumn(\"t_year\", year(\"transaction_timestamp\")) \\\n",
    "     .withColumn(\"t_month\", month(\"transaction_timestamp\")) \\\n",
    "     .withColumn(\"t_day\", day(\"transaction_timestamp\")) \\\n",
    "     .withColumn(\"t_hour\", hour(\"transaction_timestamp\")) \\\n",
    "     .withColumn(\"t_minute\", minute(\"transaction_timestamp\"))\n",
    "\n",
    "    \n",
    "    ssc_df.writeTo(\"glue_db_aw53flfpa5qkyj.pix_transactions\") \\\n",
    "          .tableProperty(\"format-version\", \"2\") \\\n",
    "          .append()\n",
    "\n",
    "final_df = raw_df \\\n",
    "    .writeStream \\\n",
    "    .foreachBatch(process_batch) \\\n",
    "    .option(\"checkpointLocation\", \"s3://itau-sm-demo-825765423553/streaming_pix_checkpoint\") \\\n",
    "    .trigger(processingTime=\"1 second\") \\\n",
    "    .start() \\\n",
    "    .awaitTermination()"
   ]
  },
  {
   "cell_type": "code",
   "execution_count": null,
   "id": "ee622705-0adb-4c5a-a10f-a6bec2267f9e",
   "metadata": {},
   "outputs": [],
   "source": [
    "%%pyspark project.spark.compatibility\n"
   ]
  }
 ],
 "metadata": {
  "kernelspec": {
   "display_name": "Python 3 (ipykernel)",
   "language": "python",
   "name": "python3"
  },
  "language_info": {
   "codemirror_mode": {
    "name": "ipython",
    "version": 3
   },
   "file_extension": ".py",
   "mimetype": "text/x-python",
   "name": "python",
   "nbconvert_exporter": "python",
   "pygments_lexer": "ipython3",
   "version": "3.11.11"
  }
 },
 "nbformat": 4,
 "nbformat_minor": 5
}
